{
 "cells": [
  {
   "cell_type": "code",
   "execution_count": 1,
   "metadata": {
    "id": "B1EsHAkbcFpq"
   },
   "outputs": [],
   "source": [
    "# Import packages\n",
    "\n",
    "import tensorflow as tf\n",
    "from tensorflow.keras.preprocessing.image import load_img, img_to_array, ImageDataGenerator\n",
    "from tensorflow.keras.applications import MobileNetV2\n",
    "from tensorflow.keras.layers import Input, AveragePooling2D, Flatten, Dense, Dropout\n",
    "from tensorflow.keras.models import Model\n",
    "from tensorflow.keras.optimizers import Adam\n",
    "from tensorflow.keras.applications.mobilenet_v2 import preprocess_input\n",
    "from tensorflow.keras.utils import to_categorical\n",
    "\n",
    "from sklearn.preprocessing import LabelBinarizer\n",
    "from sklearn.model_selection import train_test_split\n",
    "from sklearn.metrics import classification_report\n",
    "\n",
    "from imutils import paths\n",
    "import matplotlib.pyplot as plt\n",
    "import numpy as np\n",
    "import argparse\n",
    "import os"
   ]
  },
  {
   "cell_type": "code",
   "execution_count": 2,
   "metadata": {
    "id": "fzvgnNuitYym"
   },
   "outputs": [],
   "source": [
    "# Initialize learning rate, number of epoch, batch size, and dataset path\n",
    "\n",
    "LEARNING_RATE = 1e-4\n",
    "EPOCHS = 20\n",
    "BATCH_SIZE = 32\n",
    "\n",
    "dataset = '/content/drive/MyDrive/TSF-face-mask/dataset'"
   ]
  },
  {
   "cell_type": "code",
   "execution_count": 3,
   "metadata": {
    "colab": {
     "base_uri": "https://localhost:8080/"
    },
    "id": "uLJGbBGhy7vM",
    "outputId": "f3198d51-9532-4810-a52f-8dadac825d2d"
   },
   "outputs": [
    {
     "name": "stdout",
     "output_type": "stream",
     "text": [
      "[INFO]: Loading Images....\n"
     ]
    }
   ],
   "source": [
    "# grab the list of images in our dataset directory, then initialize the list of data (i.e., images) and class images\n",
    "print(\"[INFO]: Loading Images....\")\n",
    "imagePaths = list(paths.list_images(dataset))\n",
    "\n",
    "data = []\n",
    "labels = []"
   ]
  },
  {
   "cell_type": "code",
   "execution_count": 4,
   "metadata": {
    "id": "vSnNcHMB01lT"
   },
   "outputs": [],
   "source": [
    "# loop over the image paths\n",
    "for imagePath in imagePaths:\n",
    "\t# extract the class label from the file name\n",
    "\tlabel = imagePath.split(os.path.sep)[-2]\n",
    "\n",
    "\t# load the input image (224 * 224) and preprocess it \n",
    "\timage = load_img(imagePath, target_size=(224, 224))\n",
    "\timage = img_to_array(image)\n",
    "\timage = preprocess_input(image)\n",
    " \n",
    "\t# update data and label list\n",
    "\tdata.append(image)\n",
    "\tlabels.append(label)"
   ]
  },
  {
   "cell_type": "code",
   "execution_count": 5,
   "metadata": {
    "id": "I7RDcDoy18eB"
   },
   "outputs": [],
   "source": [
    "# convert the data and labels from lists to NumPy array\n",
    "data = np.array(data, dtype=\"float32\")\n",
    "labels = np.array(labels)"
   ]
  },
  {
   "cell_type": "code",
   "execution_count": 6,
   "metadata": {
    "id": "leyewWc_2L23"
   },
   "outputs": [],
   "source": [
    "# perform one-hot encoding on the labels\n",
    "lb = LabelBinarizer()\n",
    "labels = lb.fit_transform(labels)\n",
    "labels = to_categorical(labels)"
   ]
  },
  {
   "cell_type": "code",
   "execution_count": 7,
   "metadata": {
    "id": "UVc57Kut8DxK"
   },
   "outputs": [],
   "source": [
    "# partition the data into training and testing splits using 75% of the data for training and the remaining 25% for testing\n",
    "(trainX, testX, trainY, testY) = train_test_split(data, labels,\n",
    "\ttest_size=0.20, stratify=labels, random_state=42)"
   ]
  },
  {
   "cell_type": "code",
   "execution_count": 8,
   "metadata": {
    "id": "ts_8ixhI-l3U"
   },
   "outputs": [],
   "source": [
    "# Data Augmentation with training image generator\n",
    "DataAugmentation = ImageDataGenerator(\n",
    "                    rotation_range=20,\n",
    "                    zoom_range=0.15,\n",
    "                    width_shift_range=0.2,\n",
    "                    height_shift_range=0.2,\n",
    "                    shear_range=0.15,\n",
    "                    horizontal_flip=True,\n",
    "                    fill_mode='nearest')"
   ]
  },
  {
   "cell_type": "code",
   "execution_count": 9,
   "metadata": {
    "colab": {
     "base_uri": "https://localhost:8080/"
    },
    "id": "z_ENIGrwL0n9",
    "outputId": "47c086d2-eaf4-4590-9bae-b244c63e7962"
   },
   "outputs": [
    {
     "name": "stdout",
     "output_type": "stream",
     "text": [
      "WARNING:tensorflow:`input_shape` is undefined or non-square, or `rows` is not in [96, 128, 160, 192, 224]. Weights for input shape (224, 224) will be loaded as the default.\n",
      "Downloading data from https://storage.googleapis.com/tensorflow/keras-applications/mobilenet_v2/mobilenet_v2_weights_tf_dim_ordering_tf_kernels_1.0_224_no_top.h5\n",
      "9412608/9406464 [==============================] - 0s 0us/step\n",
      "9420800/9406464 [==============================] - 0s 0us/step\n"
     ]
    }
   ],
   "source": [
    "# load the MobileNetV2 network, ensuring the head FC layer set are left off\n",
    "baseModel = MobileNetV2(weights='imagenet', include_top=False, input_tensor=Input(shape=(224, 224, 3))) "
   ]
  },
  {
   "cell_type": "code",
   "execution_count": 10,
   "metadata": {
    "id": "1jSAiQh5NMdY"
   },
   "outputs": [],
   "source": [
    "# construct the head of model that will be place on the top of the baseModel\n",
    "headModel = baseModel.output\n",
    "headModel = AveragePooling2D(pool_size=(7, 7))(headModel)\n",
    "headModel = Flatten(name='flatten')(headModel)\n",
    "headModel = Dense(128, activation='relu')(headModel)\n",
    "headModel = Dropout(0.5)(headModel)\n",
    "headModel = Dense(2, activation='softmax')(headModel)"
   ]
  },
  {
   "cell_type": "code",
   "execution_count": 11,
   "metadata": {
    "id": "3Bl4SVwARdej"
   },
   "outputs": [],
   "source": [
    "# place the head FC model on the top of the baseModel (this will become the actual model we will train)\n",
    "model = Model(inputs=baseModel.input, outputs=headModel)"
   ]
  },
  {
   "cell_type": "code",
   "execution_count": 12,
   "metadata": {
    "id": "7yqQce3ZStXP"
   },
   "outputs": [],
   "source": [
    "# Loop over all the layers in baseModel, and FREEZE them so they will not be updated during th 1st training process\n",
    "for layer in baseModel.layers:\n",
    "  layer.trainable = False"
   ]
  },
  {
   "cell_type": "code",
   "execution_count": 13,
   "metadata": {
    "colab": {
     "base_uri": "https://localhost:8080/"
    },
    "id": "w0uQOHf7UJNv",
    "outputId": "2f2abdbc-4040-448e-c4ee-219e4459f190"
   },
   "outputs": [
    {
     "name": "stdout",
     "output_type": "stream",
     "text": [
      "[INFO]: Compiling model...\n",
      "Done!!!\n"
     ]
    },
    {
     "name": "stderr",
     "output_type": "stream",
     "text": [
      "/usr/local/lib/python3.7/dist-packages/keras/optimizer_v2/adam.py:105: UserWarning: The `lr` argument is deprecated, use `learning_rate` instead.\n",
      "  super(Adam, self).__init__(name, **kwargs)\n"
     ]
    }
   ],
   "source": [
    "# compile our model\n",
    "print(\"[INFO]: Compiling model...\")\n",
    "\n",
    "opt = Adam(lr=LEARNING_RATE, decay=LEARNING_RATE / EPOCHS)\n",
    "model.compile(loss=\"binary_crossentropy\", optimizer=opt, \n",
    "              metrics=[\"accuracy\"])\n",
    "\n",
    "print(\"Done!!!\")"
   ]
  },
  {
   "cell_type": "code",
   "execution_count": 14,
   "metadata": {
    "colab": {
     "base_uri": "https://localhost:8080/"
    },
    "id": "0uPGB3y7Rlwf",
    "outputId": "8eacf4bc-a424-4dec-d2b5-57bddc90d32f"
   },
   "outputs": [
    {
     "name": "stdout",
     "output_type": "stream",
     "text": [
      "GPU available Yesss!!!\n"
     ]
    }
   ],
   "source": [
    "# check for GPU availability\n",
    "print(\"GPU\", \"available Yesss!!!\" if tf.config.list_physical_devices(\"GPU\") else \"GPU not available!!!\")"
   ]
  },
  {
   "cell_type": "code",
   "execution_count": 15,
   "metadata": {
    "colab": {
     "base_uri": "https://localhost:8080/"
    },
    "id": "fnoDINjf7RJb",
    "outputId": "26ad64cf-e56c-49b9-f8f0-0ed368a15f03"
   },
   "outputs": [
    {
     "name": "stdout",
     "output_type": "stream",
     "text": [
      "[INFO] training head...\n",
      "Epoch 1/20\n",
      "34/34 [==============================] - 26s 372ms/step - loss: 0.5885 - accuracy: 0.7687 - val_loss: 0.2679 - val_accuracy: 0.9819\n",
      "Epoch 2/20\n",
      "34/34 [==============================] - 15s 431ms/step - loss: 0.2303 - accuracy: 0.9625 - val_loss: 0.1242 - val_accuracy: 0.9891\n",
      "Epoch 3/20\n",
      "34/34 [==============================] - 11s 323ms/step - loss: 0.1307 - accuracy: 0.9794 - val_loss: 0.0757 - val_accuracy: 0.9891\n",
      "Epoch 4/20\n",
      "34/34 [==============================] - 14s 427ms/step - loss: 0.0834 - accuracy: 0.9869 - val_loss: 0.0545 - val_accuracy: 0.9928\n",
      "Epoch 5/20\n",
      "34/34 [==============================] - 12s 338ms/step - loss: 0.0699 - accuracy: 0.9888 - val_loss: 0.0421 - val_accuracy: 0.9928\n",
      "Epoch 6/20\n",
      "34/34 [==============================] - 14s 401ms/step - loss: 0.0553 - accuracy: 0.9908 - val_loss: 0.0351 - val_accuracy: 0.9928\n",
      "Epoch 7/20\n",
      "34/34 [==============================] - 14s 424ms/step - loss: 0.0428 - accuracy: 0.9963 - val_loss: 0.0296 - val_accuracy: 0.9928\n",
      "Epoch 8/20\n",
      "34/34 [==============================] - 11s 324ms/step - loss: 0.0474 - accuracy: 0.9897 - val_loss: 0.0268 - val_accuracy: 0.9928\n",
      "Epoch 9/20\n",
      "34/34 [==============================] - 12s 357ms/step - loss: 0.0361 - accuracy: 0.9916 - val_loss: 0.0234 - val_accuracy: 0.9928\n",
      "Epoch 10/20\n",
      "34/34 [==============================] - 12s 359ms/step - loss: 0.0302 - accuracy: 0.9934 - val_loss: 0.0202 - val_accuracy: 0.9928\n",
      "Epoch 11/20\n",
      "34/34 [==============================] - 13s 393ms/step - loss: 0.0294 - accuracy: 0.9953 - val_loss: 0.0186 - val_accuracy: 0.9928\n",
      "Epoch 12/20\n",
      "34/34 [==============================] - 15s 447ms/step - loss: 0.0247 - accuracy: 0.9944 - val_loss: 0.0183 - val_accuracy: 0.9964\n",
      "Epoch 13/20\n",
      "34/34 [==============================] - 14s 406ms/step - loss: 0.0316 - accuracy: 0.9906 - val_loss: 0.0151 - val_accuracy: 0.9964\n",
      "Epoch 14/20\n",
      "34/34 [==============================] - 11s 323ms/step - loss: 0.0279 - accuracy: 0.9925 - val_loss: 0.0142 - val_accuracy: 0.9964\n",
      "Epoch 15/20\n",
      "34/34 [==============================] - 11s 325ms/step - loss: 0.0164 - accuracy: 0.9963 - val_loss: 0.0143 - val_accuracy: 0.9964\n",
      "Epoch 16/20\n",
      "34/34 [==============================] - 11s 329ms/step - loss: 0.0159 - accuracy: 0.9981 - val_loss: 0.0134 - val_accuracy: 0.9964\n",
      "Epoch 17/20\n",
      "34/34 [==============================] - 13s 375ms/step - loss: 0.0144 - accuracy: 0.9981 - val_loss: 0.0118 - val_accuracy: 0.9964\n",
      "Epoch 18/20\n",
      "34/34 [==============================] - 11s 324ms/step - loss: 0.0167 - accuracy: 0.9972 - val_loss: 0.0127 - val_accuracy: 0.9964\n",
      "Epoch 19/20\n",
      "34/34 [==============================] - 11s 323ms/step - loss: 0.0145 - accuracy: 0.9981 - val_loss: 0.0109 - val_accuracy: 0.9964\n",
      "Epoch 20/20\n",
      "34/34 [==============================] - 11s 323ms/step - loss: 0.0255 - accuracy: 0.9906 - val_loss: 0.0123 - val_accuracy: 0.9964\n"
     ]
    }
   ],
   "source": [
    "# train the head of the network\n",
    "print(\"[INFO] training head...\")\n",
    "trainModel = model.fit(DataAugmentation.flow(trainX, trainY, batch_size=BATCH_SIZE),\n",
    "\t\t\t\t\t\t\t\t\t\t\t steps_per_epoch=len(trainX) // BATCH_SIZE,\n",
    "\t\t\t\t\t\t\t\t\t\t\t validation_data=(testX, testY),\n",
    "\t\t\t\t\t\t\t\t\t\t\t validation_steps=len(testX) // BATCH_SIZE,\n",
    "\t\t\t\t\t\t\t\t\t\t\t epochs=EPOCHS)"
   ]
  },
  {
   "cell_type": "code",
   "execution_count": 23,
   "metadata": {
    "colab": {
     "base_uri": "https://localhost:8080/"
    },
    "id": "ZpvzXwUUsvyX",
    "outputId": "a8bc75a9-e583-40c2-cb3e-61721a8663f3"
   },
   "outputs": [
    {
     "name": "stdout",
     "output_type": "stream",
     "text": [
      "[INFO]: Evaluating network......\n"
     ]
    }
   ],
   "source": [
    "# Make prediction on the testing set\n",
    "print(\"[INFO]: Evaluating network......\")\n",
    "predIdxs = model.predict(testX, batch_size=BATCH_SIZE)"
   ]
  },
  {
   "cell_type": "code",
   "execution_count": 25,
   "metadata": {
    "id": "ynEsXHeMwxoc"
   },
   "outputs": [],
   "source": [
    "# For each image in testing set we need to find the index of the\n",
    "# label with corresponding largest predicted probability\n",
    "predIdxs = np.argmax(predIdxs, axis=1)"
   ]
  },
  {
   "cell_type": "code",
   "execution_count": 31,
   "metadata": {
    "colab": {
     "base_uri": "https://localhost:8080/"
    },
    "id": "Y2UqJfc2QDB7",
    "outputId": "dc59f845-c80e-4c48-f52a-e7757a281dee"
   },
   "outputs": [
    {
     "name": "stdout",
     "output_type": "stream",
     "text": [
      "              precision    recall  f1-score   support\n",
      "\n",
      "   with_mask       0.99      1.00      1.00       138\n",
      "without_mask       1.00      0.99      1.00       138\n",
      "\n",
      "    accuracy                           1.00       276\n",
      "   macro avg       1.00      1.00      1.00       276\n",
      "weighted avg       1.00      1.00      1.00       276\n",
      "\n"
     ]
    }
   ],
   "source": [
    "# show a formatted classification report\n",
    "print(classification_report(testY.argmax(axis=1), predIdxs,\n",
    "      target_names=lb.classes_))"
   ]
  },
  {
   "cell_type": "code",
   "execution_count": 32,
   "metadata": {
    "colab": {
     "base_uri": "https://localhost:8080/",
     "height": 36
    },
    "id": "SwLim5P_YgEI",
    "outputId": "f028594c-b80b-462c-8ec0-f52e9d58a197"
   },
   "outputs": [
    {
     "data": {
      "application/vnd.google.colaboratory.intrinsic+json": {
       "type": "string"
      },
      "text/plain": [
       "'/content'"
      ]
     },
     "execution_count": 32,
     "metadata": {},
     "output_type": "execute_result"
    }
   ],
   "source": [
    "pwd"
   ]
  },
  {
   "cell_type": "code",
   "execution_count": 33,
   "metadata": {
    "colab": {
     "base_uri": "https://localhost:8080/"
    },
    "id": "qG0K3OeESN_R",
    "outputId": "de9d197a-5a7c-4bef-b656-8d4f36bf970b"
   },
   "outputs": [
    {
     "name": "stdout",
     "output_type": "stream",
     "text": [
      "[INFO]: Saving the mask detector model....\n",
      "Done!!!\n"
     ]
    }
   ],
   "source": [
    "# Save the model\n",
    "print(\"[INFO]: Saving the mask detector model....\")\n",
    "model.save(\"/content/drive/MyDrive/TSF-face-mask/mask-detector-model.model\", save_format=\"h5\")\n",
    "print(\"Done!!!\")"
   ]
  },
  {
   "cell_type": "code",
   "execution_count": 37,
   "metadata": {
    "colab": {
     "base_uri": "https://localhost:8080/",
     "height": 299
    },
    "id": "5DeZwIs8Y8OX",
    "outputId": "75b3f9a5-255a-449c-e586-a1f40f17cacd"
   },
   "outputs": [
    {
     "data": {
      "image/png": "[encoded data removed]",
      "text/plain": [
       "<Figure size 432x288 with 1 Axes>"
      ]
     },
     "metadata": {},
     "output_type": "display_data"
    }
   ],
   "source": [
    "# Plot the training loss and accuracy\n",
    "\n",
    "N = EPOCHS\n",
    "plt.style.use(\"ggplot\")\n",
    "plt.figure()\n",
    "plt.plot(np.arange(0, N), trainModel.history[\"loss\"], label=\"train_loss\")\n",
    "plt.plot(np.arange(0, N), trainModel.history[\"val_loss\"], label=\"val_loss\")\n",
    "plt.plot(np.arange(0, N), trainModel.history[\"accuracy\"], label=\"accuracy\")\n",
    "plt.plot(np.arange(0, N), trainModel.history[\"val_accuracy\"], label=\"val_accuracy\")\n",
    "plt.title(\"Training Loss & Accuracy\")\n",
    "plt.xlabel(\"Epochs #\")\n",
    "plt.ylabel(\"Loss / Accuracy\")\n",
    "plt.legend(loc=\"center right\")\n",
    "plt.savefig(\"/content/drive/MyDrive/TSF-face-mask/evaluation.png\")"
   ]
  },
  {
   "cell_type": "code",
   "execution_count": null,
   "metadata": {
    "id": "g6OjjOoQfWH_"
   },
   "outputs": [],
   "source": []
  }
 ],
 "metadata": {
  "accelerator": "GPU",
  "colab": {
   "name": "face-mask-detect-training.ipynb",
   "provenance": []
  },
  "gpuClass": "standard",
  "kernelspec": {
   "display_name": "Python 3 (ipykernel)",
   "language": "python",
   "name": "python3"
  },
  "language_info": {
   "codemirror_mode": {
    "name": "ipython",
    "version": 3
   },
   "file_extension": ".py",
   "mimetype": "text/x-python",
   "name": "python",
   "nbconvert_exporter": "python",
   "pygments_lexer": "ipython3",
   "version": "3.9.12"
  }
 },
 "nbformat": 4,
 "nbformat_minor": 1
}
